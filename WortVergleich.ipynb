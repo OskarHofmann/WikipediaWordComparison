{
  "nbformat": 4,
  "nbformat_minor": 0,
  "metadata": {
    "colab": {
      "name": "WortVergleich.ipynb",
      "provenance": [],
      "authorship_tag": "ABX9TyMUHZbgEeUYpAx9AL8+nXAB"
    },
    "kernelspec": {
      "name": "python3",
      "display_name": "Python 3"
    }
  },
  "cells": [
    {
      "cell_type": "code",
      "metadata": {
        "colab": {
          "base_uri": "https://localhost:8080/"
        },
        "id": "tCGcZl5a33KO",
        "outputId": "deb44832-b507-41bb-e444-ebe92f7b9be0"
      },
      "source": [
        "!pip install wikipedia\n"
      ],
      "execution_count": null,
      "outputs": [
        {
          "output_type": "stream",
          "text": [
            "Collecting wikipedia\n",
            "  Downloading https://files.pythonhosted.org/packages/67/35/25e68fbc99e672127cc6fbb14b8ec1ba3dfef035bf1e4c90f78f24a80b7d/wikipedia-1.4.0.tar.gz\n",
            "Requirement already satisfied: beautifulsoup4 in /usr/local/lib/python3.6/dist-packages (from wikipedia) (4.6.3)\n",
            "Requirement already satisfied: requests<3.0.0,>=2.0.0 in /usr/local/lib/python3.6/dist-packages (from wikipedia) (2.23.0)\n",
            "Requirement already satisfied: idna<3,>=2.5 in /usr/local/lib/python3.6/dist-packages (from requests<3.0.0,>=2.0.0->wikipedia) (2.10)\n",
            "Requirement already satisfied: chardet<4,>=3.0.2 in /usr/local/lib/python3.6/dist-packages (from requests<3.0.0,>=2.0.0->wikipedia) (3.0.4)\n",
            "Requirement already satisfied: certifi>=2017.4.17 in /usr/local/lib/python3.6/dist-packages (from requests<3.0.0,>=2.0.0->wikipedia) (2020.12.5)\n",
            "Requirement already satisfied: urllib3!=1.25.0,!=1.25.1,<1.26,>=1.21.1 in /usr/local/lib/python3.6/dist-packages (from requests<3.0.0,>=2.0.0->wikipedia) (1.24.3)\n",
            "Building wheels for collected packages: wikipedia\n",
            "  Building wheel for wikipedia (setup.py) ... \u001b[?25l\u001b[?25hdone\n",
            "  Created wheel for wikipedia: filename=wikipedia-1.4.0-cp36-none-any.whl size=11686 sha256=85dbf29c5d5084fdbae59f0de6f7dc175dfbf8dace6035cebad008d699249a6d\n",
            "  Stored in directory: /root/.cache/pip/wheels/87/2a/18/4e471fd96d12114d16fe4a446d00c3b38fb9efcb744bd31f4a\n",
            "Successfully built wikipedia\n",
            "Installing collected packages: wikipedia\n",
            "Successfully installed wikipedia-1.4.0\n"
          ],
          "name": "stdout"
        }
      ]
    },
    {
      "cell_type": "code",
      "metadata": {
        "id": "-yR3PrcqcySJ"
      },
      "source": [
        "import wikipedia\n",
        "import re\n",
        "import string\n",
        "\n",
        "wikipedia.set_lang(\"de\")\n",
        "\n",
        "#top 100 deutsche Worte plus Erfahrungswerte \n",
        "top_100_plus = {'während','davon','insbesondere', 'zahlreichen', 'sowie', 'bezeichnet', 'bzw', 'einiger','damit', 'daher', 'beim', 'denen', 'jedoch', 'dieses', 'anderen','wieder', 'von', 'eine', 'war', 'kann', 'ist', 'auch', 'dann', 'über', 'sie', 'die', 'sei', 'das', 'ich', 'der', 'durch', 'so', 'gegen', 'hat', 'millionen', 'ihre', 'und', 'aus', 'noch', 'sein', 'mit', 'werden', 'hatte', 'dass', 'haben', 'oder', 'dem', 'unter', 'immer', 'aber', 'ein', 'prozent', 'soll', 'Es', 'als', 'für', 'einer', 'einem', 'wird', 'seine', 'zum', 'will', 'bis', 'vom', 'des', 'nur', 'wenn', 'am', 'um', 'sie', 'ein', 'er', 'vor', 'jahren', 'sagte', 'zu', 'das', 'nicht', 'bei', 'und', 'es', 'habe', 'nach', 'Uhr', 'jahr', 'In', 'was', 'wurde', 'zwei', 'eines', 'wie', 'im', 'euro', 'in', 'einen', 'sich', 'worden', 'keine', 'an', 'seiner', 'zur', 'der', 'wir', 'schon', 'im', 'zwischen', 'die', 'diese', 'mehr', 'auf', 'den', 'dieser', 'können', 'man', 'sind'}"
      ],
      "execution_count": null,
      "outputs": []
    },
    {
      "cell_type": "code",
      "metadata": {
        "id": "z3An1lht6T5J",
        "colab": {
          "base_uri": "https://localhost:8080/"
        },
        "outputId": "6833b5f3-ad35-453d-b5be-fbf900a9eb25"
      },
      "source": [
        "begriffe = [\"Madrid\",\"Winterruhe\"]\n",
        "\n",
        "wiki_pages = []\n",
        "unique_words = []\n",
        "\n",
        "try:\n",
        "    for idx, wort in enumerate(begriffe):\n",
        "        #print(print(wikipedia.page(\"Rhein\")))\n",
        "        wiki_pages.append(wikipedia.page(wort, auto_suggest = False).content)\n",
        "except wikipedia.exceptions.DisambiguationError as e:\n",
        "    print(e.options)\n",
        "    exit()\n",
        "\n",
        "\n",
        "for page in wiki_pages:\n",
        "    #Ausfiltern von Überschriften mit 2-4 umgebenden = \n",
        "    text = re.sub('=?=?==.*?===?=?', '', page)\n",
        "\n",
        "    #Bindestriche in Leerzeichen verwandeln, da Bindestriche im nächsten Schritt gelöscht werden\n",
        "    text = re.sub('-', ' ', text)\n",
        "\n",
        "    ##Löschen von Punktuation\n",
        "    text = text.translate(str.maketrans('', '', string.punctuation))\n",
        "    #text = re.sub('[^\\P{P}-]+','',ohne_gleich)\n",
        "\n",
        "    #Set aller Wörter im Artikel\n",
        "    unique_words.append(set(text.lower().split())) # trennt 'text' an (beliebig vielen) whitespaces\n",
        "\n",
        "gemeinsam = unique_words[0]\n",
        "for begriff in unique_words[1:]:\n",
        "    gemeinsam = gemeinsam.intersection(begriff)\n",
        "\n",
        "gemeinsam_ohne_top100 = gemeinsam.difference(top_100_plus)\n",
        "print(gemeinsam_ohne_top100)\n",
        "print()\n",
        "\n",
        "#Ausgabe jeder Textzeile aus den jeweiligen Wiki-Seiten mit dem jeweiligen Wort:\n",
        "\n",
        "for wort in gemeinsam_ohne_top100:\n",
        "    print(wort)\n",
        "    for page in wiki_pages:\n",
        "        for line in page.splitlines():\n",
        "            if wort in line.lower():\n",
        "                print(line)\n",
        "    print()"
      ],
      "execution_count": null,
      "outputs": [
        {
          "output_type": "stream",
          "text": [
            "{'ende', 'temperatur', '°c', 'wasser'}\n",
            "\n",
            "ende\n",
            "Nach 854 wurde unter dem Emir Muhammad (852 bis 886) eine maurische Burg (alcázar) an der Stelle des heutigen Madrider Königspalastes errichtet. Der im frühen 11. Jahrhundert in Córdoba verstorbene Astronom Maslama ibn Aḥmad al-Maǧrīṭī wurde nachweislich seiner nisba in Madrid geboren. 1083 wurde Madrid vom Königreich Kastilien erobert, jedoch noch 1109 von dem Almoravidenherrscher Ali ibn Yusuf erfolglos belagert. Ein kleiner Teil der aus der Zeit der arabischen Herrschaft über Spanien stammenden Stadtmauern ist neben der Kathedrale immer noch vorhanden. 1309 wurde unter Fernando IV. die Ständeversammlung (Cortes) des Königreichs Kastilien erstmals nach Madrid einberufen.\n",
            "1701 brach der Spanische Erbfolgekrieg aus, der 1706 zur englisch-portugiesischen Besetzung der Stadt führte. Er endete 1714 mit der Übernahme des spanischen Throns durch die Bourbonen. Unter ihrer Herrschaft entstand der heutige Königspalast. Insbesondere in der Regierungszeit Karls III., der deswegen im Volksmund auch als der „beste Bürgermeister von Madrid“ bezeichnet wird, wurden die öffentliche Infrastruktur der Stadt (Straßen, Plätze, Parks, Wasserversorgung etc.) modernisiert und zahlreiche öffentliche Bauten errichtet.\n",
            "Nachdem sich die Putschisten unter Generalissimus Francisco Franco, der ab 1940 offiziell im königlichen und privat im Palast El Pardo residierte, durchgesetzt hatten, prägte dessen franquistische Diktatur bis 1975 die Stadt architektonisch, wirtschaftlich und demografisch. Nach den Zerstörungen durch die Belagerung während des Bürgerkriegs wurde es Francon nach dessen Plänen wieder aufgebaut bzw. die durch den Bürgerkrieg unvollendeten Umgestaltungen der von Franco bekämpften Zweiten Republik, etwa die Nuevos Ministerios, wurden fertiggestellt. Nach dem Plan de Estabilización 1959 wuchsen auch immer mehr Wolkenkratzer in die Höhe, ein Trend der bis zur Finanzkrise 2007 anhielt. Zwischen 1900 und 1980 versechsfachte sich die Stadtbevölkerung von etwa 500.000 auf etwa drei Millionen Einwohner. 1965 bis 1973 fanden zahlreiche Streiks und Studentenproteste statt. Bereits in den 1950er Jahren war Madrid ein Zentrum des studentischen Widerstandes gegen die Diktatur.\n",
            "Das Wappen der Stadt Madrid zeigt einen Braunbären (oso pardo), der sich den Stadtnamen pseudoetymologisch deutend gegen einen Erdbeerbaum reckt. Dieser heißt auf Spanisch madroño. Es handelt sich daher um ein Sprechendes Wappen.\n",
            "Plaza de España am westlichen Ende der Gran Vía, ein großer Platz im Stile der 1920er Jahre mit früher Hochhausarchitektur.\n",
            "Museo del Prado: Eines der wichtigsten Malereimuseen der Welt. Es umfasst die bedeutendste Sammlung spanischer Malerei vor 1900 überhaupt (z. B. El Greco, Velazquez, Goya) sowie herausragende Werke anderer europäischer Maler (Raffael, Tizian, Hieronymus Bosch, Rubens, Dürer u. v. a. m.)\n",
            "Die Region Madrid ist der führende Wirtschafts- und Industriestandort Spaniens und erwirtschaftet mit 17,7 % den höchsten Anteil am spanischen Bruttosozialprodukt. Der Schwerpunkt liegt auf dem Dienstleistungssektor, der über 78 % des regionalen BIP generiert. Aufgrund seiner hervorragend geographischen Lage in der Mitte der iberischen Halbinsel haben sich dort Industrien aus dem Flugzeug-, Fahrzeug-, Textil-, chemische und Nahrungsmittelindustrien niedergelassen. Ein großer Teil der in Spanien niedergelassenen Banken und Versicherungskonzerne haben ihren Sitz in Madrid. Die wichtigste und einzig international bedeutende Börse Spaniens befindet sich dort.\n",
            "Als Winterruhe wird in der Zoologie der von zahlreichen Wachphasen unterbrochene Winterschlaf einiger bestimmter gleichwarmer Tiere (fast ausnahmslos Säuger) während der kalten Jahreszeit bezeichnet. Anders als beim Winterschlaf sinkt die Körperkerntemperatur während der Winterruhe nicht ab.Auch die Reaktion außertropischer Pflanzen auf die während des Winters herrschenden lebensfeindlichen Umweltbedingungen, insbesondere der Mangel an flüssigem Wasser, wird in der Gärtnerei und Botanik als Winterruhe bezeichnet. Bezieht sich die Winterruhe auf Samen oder Knospen, spricht man  von Keimruhe oder Dormanz.\n",
            "Als Zwangsruhe bezeichnet man den Zustand nach Erfüllung des Kältebedürfnisses vor Ende des Winters, wenn Außenfaktoren das Austreiben verhindern.\n",
            "\n",
            "temperatur\n",
            "Durch seine Höhenlage auf 667 Meter über dem Meeresspiegel und das kontinentale Klima sind die Sommer in Madrid heißer und trockener, die Winter jedoch deutlich kälter als etwa in den Städten am Mittelmeer. Die durchschnittliche Temperatur im Januar liegt bei etwa 6,1 °C, im Juli bei etwa 24,2 °C. Dabei ist es dann meist sehr trocken und heiß.\n",
            "Als Winterruhe wird in der Zoologie der von zahlreichen Wachphasen unterbrochene Winterschlaf einiger bestimmter gleichwarmer Tiere (fast ausnahmslos Säuger) während der kalten Jahreszeit bezeichnet. Anders als beim Winterschlaf sinkt die Körperkerntemperatur während der Winterruhe nicht ab.Auch die Reaktion außertropischer Pflanzen auf die während des Winters herrschenden lebensfeindlichen Umweltbedingungen, insbesondere der Mangel an flüssigem Wasser, wird in der Gärtnerei und Botanik als Winterruhe bezeichnet. Bezieht sich die Winterruhe auf Samen oder Knospen, spricht man  von Keimruhe oder Dormanz.\n",
            "Die Winterruhe im zoologischen Sinn tritt bei einigen Säugetieren ein und bezeichnet einen von einigen kurzen Wachphasen unterbrochenen Winterschlaf. Während der Wachphasen können kleine Mengen Nahrung aufgenommen sowie Urin und Kot abgegeben werden. Während der Ruhephasen ist die Stoffwechselaktivität der Tiere vermindert, die normale Körperkerntemperatur wird aber beibehalten. Winterruhe wird beispielsweise bei Braunbär, Marderhund, Waschbär, Dachs und Eichhörnchen beobachtet.\n",
            "Für die Überwindung der Winterruhe benötigen die meisten Pflanzen eine Kälteperiode von oft 3–5 Wochen Länge bei 0,5–5 °C. Je stärker die tatsächliche Temperatur davon abweicht, desto mehr verlängert sich diese Zeitspanne. Während der Ruhe werden Hemmstoffe wie Abscisinsäure langsam abgebaut.\n",
            "\n",
            "°c\n",
            "Durch seine Höhenlage auf 667 Meter über dem Meeresspiegel und das kontinentale Klima sind die Sommer in Madrid heißer und trockener, die Winter jedoch deutlich kälter als etwa in den Städten am Mittelmeer. Die durchschnittliche Temperatur im Januar liegt bei etwa 6,1 °C, im Juli bei etwa 24,2 °C. Dabei ist es dann meist sehr trocken und heiß.\n",
            "Für die Überwindung der Winterruhe benötigen die meisten Pflanzen eine Kälteperiode von oft 3–5 Wochen Länge bei 0,5–5 °C. Je stärker die tatsächliche Temperatur davon abweicht, desto mehr verlängert sich diese Zeitspanne. Während der Ruhe werden Hemmstoffe wie Abscisinsäure langsam abgebaut.\n",
            "\n",
            "wasser\n",
            "Als arabisches Etymon wird das Wort madschra / مَجْرى / maǧrā zugrundegelegt, das Kanal, Wasserleitung oder Flussbett bedeuten kann. Als lateinisches Etymon wird matricem (Akk. von matrix, 'Gebärmutter') angenommen, was hier mit 'Quelle (eines Baches)' übersetzt wird. Dies habe in seiner mozarabischen Form matrič gelautet. Da beide Etyma sich auf das Wasser beziehen und ähnlich klingen, ist auch der Gedanke aufgebracht worden, dass es sich um eine romanisch-arabische Hybridbildung handeln könne.\n",
            "1701 brach der Spanische Erbfolgekrieg aus, der 1706 zur englisch-portugiesischen Besetzung der Stadt führte. Er endete 1714 mit der Übernahme des spanischen Throns durch die Bourbonen. Unter ihrer Herrschaft entstand der heutige Königspalast. Insbesondere in der Regierungszeit Karls III., der deswegen im Volksmund auch als der „beste Bürgermeister von Madrid“ bezeichnet wird, wurden die öffentliche Infrastruktur der Stadt (Straßen, Plätze, Parks, Wasserversorgung etc.) modernisiert und zahlreiche öffentliche Bauten errichtet.\n",
            "Als Winterruhe wird in der Zoologie der von zahlreichen Wachphasen unterbrochene Winterschlaf einiger bestimmter gleichwarmer Tiere (fast ausnahmslos Säuger) während der kalten Jahreszeit bezeichnet. Anders als beim Winterschlaf sinkt die Körperkerntemperatur während der Winterruhe nicht ab.Auch die Reaktion außertropischer Pflanzen auf die während des Winters herrschenden lebensfeindlichen Umweltbedingungen, insbesondere der Mangel an flüssigem Wasser, wird in der Gärtnerei und Botanik als Winterruhe bezeichnet. Bezieht sich die Winterruhe auf Samen oder Knospen, spricht man  von Keimruhe oder Dormanz.\n",
            "\n"
          ],
          "name": "stdout"
        }
      ]
    },
    {
      "cell_type": "markdown",
      "metadata": {
        "id": "ld-HleTs_H0j"
      },
      "source": [
        "# Test\n"
      ]
    },
    {
      "cell_type": "code",
      "metadata": {
        "colab": {
          "base_uri": "https://localhost:8080/"
        },
        "id": "SGmIjBeya7am",
        "outputId": "578fa44a-556b-4b2c-f298-2bb1bbeffaa0"
      },
      "source": [
        "print(wiki_pages[0])"
      ],
      "execution_count": null,
      "outputs": [
        {
          "output_type": "stream",
          "text": [
            "Josef Ackermann (Josef Meinrad „Joe“ Ackermann) (* 7. Februar 1948 in Walenstadt, Kanton St. Gallen, Schweiz; heimatberechtigt in Mels) ist ein Schweizer Bankmanager. Von 2002 bis 2006 war er der 18. Vorstandssprecher, von 2006 bis Ende Mai 2012 der alleinige Vorsitzende des Vorstands und des Group Executive Committee der Deutschen Bank AG. Von März 2012 bis Ende August 2013 war er Verwaltungsratspräsident bei der Zurich Insurance Group. Vom 20. November 2014 bis zum 14. Mai 2019 war er Aufsichtsratsvorsitzender der Bank of Cyprus.\n",
            "\n",
            "\n",
            "== Werdegang ==\n",
            "\n",
            "\n",
            "=== Herkunft ===\n",
            "Josef Ackermann wurde in Walenstadt als Sohn des Landarztes Karl Ackermann aus dem sankt-gallischen Mels geboren. Ackermann wuchs mit seinen zwei Brüdern in Mels in einem katholischen Elternhaus auf.\n",
            "\n",
            "\n",
            "=== Ausbildung ===\n",
            "Nach der Matura studierte Josef Ackermann bis 1973 an der Universität St. Gallen (HSG) Wirtschafts- und Sozialwissenschaften. Sein Studium schloss er mit einem Lizentiat in der Fachrichtung Bankwirtschaft ab.\n",
            "Von 1973 an war er als wissenschaftlicher Assistent an der Forschungsgemeinschaft für Volkswirtschaftslehre derselben Universität tätig. 1977 wurde er dort beim Geld- und Wachstumskritiker Hans Christoph Binswanger über den „Einfluss des Geldes auf das reale Wirtschaftsgeschehen“ zum Dr. oec. promoviert. In seiner Dissertation vertritt Ackermann entgegen der neoklassischen Theorie die Position, dass Geld gegenüber der Realwirtschaft nicht neutral sei, sondern im Gegenteil einen erheblichen Einfluss auf die Realwirtschaft habe. Denn durch Kreditvergabe werde neues Geld geschaffen und die Geldschöpfung des Bankensystems [stelle] eine notwendige Bedingung für den Investitions- und Wachstumsprozess in der arbeitsteiligen Geldwirtschaft dar. Zugleich seien die Banken an einer möglichst grossen Kreditgewährung interessiert. Da sich der Gewinn bei einer positiven Zinsdifferenz mit der Menge der vergebenen Kredite erhöht. Das Interesse der Banken führe also dazu, dass die Geldmenge ständig wachse, sei es, dass dem Geld reale Werte gegenüberstehen oder nicht.Bis 1989 war er Lehrbeauftragter für Geldpolitik und Geldtheorie an der HSG.\n",
            "\n",
            "\n",
            "=== Privatleben ===\n",
            "Ackermann ist seit 1977 mit der Finnin Pirkko Mölsä verheiratet – sie ist ebenfalls HSG-Absolventin – und hat eine erwachsene Tochter. Er gilt als Hobbymusiker (Klavier, Gesang) und grosser Opernliebhaber. In seiner Jugend betrieb Ackermann Leichtathletik.\n",
            "\n",
            "\n",
            "== Karriere ==\n",
            "\n",
            "\n",
            "=== Credit Suisse ===\n",
            "Nach seiner Promotion war Ackermann ab 1977 in mehreren Führungspositionen bei der Credit Suisse (damals Schweizerische Kreditanstalt SKA) beschäftigt. Er war unter anderem in New York, Lausanne und London tätig. Ab 1990 war er Mitglied im Vorstand der Bank und wurde 1993 zum Vorsitzenden gewählt. Mit der Übernahme dieser Funktion galt er nach Rainer E. Gut als die „Nummer zwei“ der Muttergesellschaft CS Holding. In seine Amtszeit fiel die Übernahme der Schweizerischen Volksbank (1993), die wenig später komplett in der Credit Suisse aufging.\n",
            "Im Juli 1996 verliess er schliesslich nach Meinungsverschiedenheiten mit dem Verwaltungsrat die Credit Suisse.\n",
            "\n",
            "\n",
            "=== Einstieg bei der Deutschen Bank ===\n",
            "Noch im selben Jahr wurde Ackermann Vorstandsmitglied der Deutschen Bank. Er übernahm dort zunächst den Geschäftsbereich Kreditrisiken, später die Bereiche Marktrisiken, Treasury und Volkswirtschaft. Ab 1998 war er für den Bereich „Globale Unternehmen und Institutionen“ verantwortlich, zu dem neben dem Grosskundengeschäft vor allem das Investment Banking zählte. Zu seinen Erfolgen gehört unter anderem die Integration der 1999 übernommenen US-Investmentbank Bankers Trust.\n",
            "Bereits im September 2000 wählte der Vorstand der Deutschen Bank Ackermann mit Wirkung ab Mai 2002 als Nachfolger von Rolf-E. Breuer zu seinem Sprecher und zum Vorsitzenden der Konzernleitung. Die Nominierung kam zu diesem Zeitpunkt ungewöhnlich früh.\n",
            "\n",
            "\n",
            "=== Chef der Deutschen Bank ===\n",
            "Ackermann sollte als Schweizer der erste ausländische Chef der Deutschen Bank werden.\n",
            "Ackermanns Fixgehalt betrug seit 2003 unverändert 1,15 Millionen Euro, zusätzlich erhielt er erfolgsabhängige Vergütungskomponenten, die in manchen Jahren 10 Millionen Euro überschritten haben. In den Jahren 2004 und 2005 war er der Spitzenverdiener unter den Managern der im Deutschen Aktienindex (DAX) gelisteten Unternehmen. Angesichts der Finanzkrise verzichtete Ackermann für 2008 auf seinen erfolgsabhängigen Gehaltsbestandteil.Ackermann setzte im Februar 2005 als öffentliches Ziel für die Bank eine Eigenkapitalrendite von 25 Prozent.Am 1. Februar 2006 wurde er zum Vorsitzenden des Vorstands ernannt. Im Januar 2007 erklärte Ackermann in einem Interview, er wolle seine Karriere 2010 beenden, ohne in den Aufsichtsrat zu wechseln. Er wolle seine Erfahrungen weitergeben, „an der Uni oder vielleicht auch im gesellschaftlichen Bereich“.Ende April 2009, nachdem die Deutsche Bank im ersten Quartal 2009 in die Gewinnzone zurückgekehrt war, bot der Aufsichtsrat Ackermann eine Vertragsverlängerung bis 2013 an. Dieses Angebot wurde von Ackermann angenommen. Am 25. Juli 2011 wurde bekannt, dass Ackermann bereits Ende Mai 2012 seinen Posten als Vorstandsvorsitzender zugunsten einer Doppelspitze aus Anshu Jain und Jürgen Fitschen aufgeben wird.In März 2019 berichtete die New York Times, dass Josef Ackermann über die verlustreichen Geschäftsverbindungen zwischen dem künftigen Präsidenten der USA, Donald Trump, und der New Yorker Niederlassung der Bank informiert war.\n",
            "\n",
            "\n",
            "==== Mannesmann-Prozess ====\n",
            "\n",
            "Ab Januar 2004 musste sich Josef Ackermann vor dem Landgericht Düsseldorf verantworten. Die Anklage gegen ihn und fünf weitere Beteiligte im so genannten Mannesmann-Prozess – darunter der ehemalige Vorstandsvorsitzende der Mannesmann AG, Klaus Esser, und der frühere IG Metall-Vorsitzende Klaus Zwickel – lautete auf Untreue. Die Angeklagten standen unter dem Verdacht, den Düsseldorfer Konzern im Rahmen der Übernahme durch Vodafone im Februar 2000 durch überhöhte Prämienzahlungen an Esser und weitere Manager um rund 110 Millionen Mark (ca. 58 Millionen Euro) geschädigt zu haben.\n",
            "Ackermann sorgte zu Beginn des Prozesses, am 21. Januar 2004, für erhebliches Aufsehen durch die Aussage: „Dies ist das einzige Land, in dem diejenigen, die Erfolg haben und Werte schaffen, deswegen vor Gericht gestellt werden.“ Im Gedächtnis der Öffentlichkeit blieben ebenfalls seine zu einem „V“ gespreizten Finger vor Prozessbeginn. Nach eigenen Angaben ahmte Ackermann mit dieser Geste scherzhaft den zur gleichen Zeit vor Gericht stehenden Michael Jackson nach. Die Geste war zustande gekommen, als Ackermann 40 Minuten auf die verspätete Vorsitzende Richterin warten musste und von Fotografen umringt war.Das Landgericht Düsseldorf beendete das Verfahren gegen Josef Ackermann und die fünf Mitangeklagten am 22. Juli 2004 mit Freispruch, wogegen die Staatsanwaltschaft Revision einlegte. Am 21. Dezember 2005 hob der Bundesgerichtshof das Urteil des Landgerichts Düsseldorf auf, das Verfahren wurde an eine andere Strafkammer des Landgerichts zurückverwiesen.\n",
            "Der zweite Prozess vor dem Landgericht Düsseldorf endete im November 2006 mit einer Einstellung des Verfahrens gegen Geldauflagen gemäß § 153a Abs. 2 StPO.Von den Geldauflagen in Höhe von insgesamt 5,8 Millionen Euro hatte Ackermann 3,2 Millionen Euro zu zahlen. Bei Verurteilung zu einer Geldstrafe wäre die höchstmögliche Strafe 3,6 Millionen Euro gewesen (720 Tagessätze à 5.000 Euro) und Ackermann wäre damit vorbestraft gewesen. Für diesen Fall hatte Ackermann seinen Rücktritt angekündigt.\n",
            "\n",
            "\n",
            "=== Verwaltungsratspräsident bei Zurich Insurance Group ===\n",
            "Von März 2010 bis März 2012 war Ackermann Vizepräsident des Verwaltungsrates der Zurich Financial Services AG, die nach Namensänderung Zurich Insurance Group heisst. Am 29. März 2012 wurde er zum Präsidenten des Verwaltungsrats gewählt. Er nahm sein Amt Anfang Juni auf, nach Niederlegung des Amts als Vorsitzender des Vorstandes der Deutschen Bank per Ende Mai. In der Zwischenzeit führte der Vizepräsident die Verwaltungsratsgeschäfte. Nach dem Suizid des Finanzchefs Pierre Wauthier erklärte Ackermann am 29. August 2013 seinen sofortigen Rücktritt als Verwaltungsratspräsident und als Verwaltungsratsmitglied. Er reagierte damit auf Vorwürfe der Hinterbliebenen. Ackermann wurde durch eine Untersuchung, veranlasst durch die Eidgenössische Finanzmarktaufsicht (Finma), entlastet; Wauthier war keinem «ungebührlichen oder unangemessenen Druck» durch Ackermann oder einen anderen Entscheidungsträger ausgesetzt.\n",
            "\n",
            "\n",
            "=== Verwaltungsratspräsident der Bank of Cyprus ===\n",
            "Vom 20. November 2014 bis 14. Mai 2019 war Josef Ackermann Verwaltungsratspräsident der Bank of Cyprus.\n",
            "\n",
            "\n",
            "== Ackermanns Bild in der Öffentlichkeit ==\n",
            "Ackermanns Öffentlichkeitsbild als Manager ist wechselhaft. Weitläufig negative Reaktionen, bis hin zum Bundeskanzler Gerhard Schröder, verursachte Ackermann im Frühjahr 2005, als er ein neues Rekordergebnis der Deutschen Bank und gleichzeitig den Abbau von über 6.000 Arbeitsplätzen ankündigte.Nachdem die Finanzmärkte im Frühjahr 2008 aufgrund von Liquiditätsproblemen bei Bear Stearns abermals abgerutscht waren, forderte er „eine konzertierte Aktion von Regierungen, Notenbanken und Marktteilnehmern“, um ein Übergreifen der Finanzkrise auf die reale Wirtschaft zu verhindern. Für seinen Ruf nach Interventionen des Staates wurde Ackermann kritisiert. Bundeswirtschaftsminister Michael Glos sagte, aus den gleichen Etagen, aus denen sonst weniger Staat gefordert werde, klinge jetzt der Ruf nach Hilfe vom Staat.Ackermann begann nun, an seinem Öffentlichkeitsbild zu arbeiten. Dazu trat er in Talkshows auf und gab Interviews, in denen er auch über sein Privatleben sprach. In der Folgezeit gab es zahlreiche lobende Artikel in den Medien über ihn und Der Tagesspiegel schrieb beispielsweise im Februar 2008, Ackermann habe sich seit 2006 „vom meistgehassten Manager Deutschlands zum Vordenker und Hoffnungsträger entwickelt“. Für sein Ansehen war es auch förderlich, dass er sich im September 2007 als erster Manager einer deutschen Bank zur „Subprime-Krise“ äusserte und dabei auch Fehler der Deutschen Bank eingestand.Für die internationalen Finanzmärkte forderte Ackermann als Reaktion auf die Subprime-Krise einen globalen Sachverständigenrat, „eine Gruppe weiser Männer und Frauen, die etwa im Rahmen des Internationalen Währungsfonds die Entwicklung an den Finanzmärkten beobachten und bei Gefahr im Verzug Alarm schlagen“.Als die weltweite Finanzkrise unübersehbar auf Deutschland übergegriffen hatte, geriet auch Ackermanns Rolle an der Spitze der Deutschen Bank wiederum verstärkt in den Mittelpunkt öffentlicher Kritik. Im Oktober 2008 kündigte Ackermann der Bildzeitung an, auf die gewinnabhängigen Bonuszahlungen zu verzichten, und bezeichnete dies unter anderem als „persönliches Zeichen der Solidarität“. Daraufhin wurde Ackermann erneut unter anderem von der Bild und dem Spiegel vielfach gelobt. Kritiker aus Politik und Medien machten hingegen darauf aufmerksam, dass die Deutsche Bank voraussichtlich gar keinen Gewinn im Jahr 2008 mache (siehe oben), und kritisierten, dass Ackermann mit öffentlicher Zurschaustellung auf Bonuszahlungen verzichtet habe, die er so oder so nicht bekommen hätte.\n",
            "Robert von Heusinger kritisierte Ackermanns erklärtes Renditeziel von 25 Prozent. Dieses sei auf Dauer, ausser in Monopolen, ohne deutliche Nebenschäden nicht erreichbar. Die Diskussion über die Höhe von Renditezielen dauert bis heute an. Ackermanns Zweifel an der Rückzahlungsfähigkeit Griechenlands sowie die von der Deutschen Bank angestrebte Eigenkapitalrendite von 25 Prozent wurde von Mitgliedern der deutschen Regierung öffentlich verurteilt.Als Ableitung aus Ackermanns Namen wird die Formulierung „Ackermänner“ von einigen Personen (so etwa von der Bundestags-Vizepräsidentin Petra Pau (Die Linke) im Jahr 2007, vom DGB-Vorsitzenden Michael Sommer 2008 und vom SPD-Vorsitzenden Franz Müntefering 2009) als negative Bezeichnung (Metonymie) für Manager benutzt, die sich ihrer Meinung nach durch besonders verantwortungsloses Handeln auszeichnen.Die Auszeichnung als „European Banker of the Year“ 2009 durch die Finanzpresse nahm Attac zum Anlass, Ackermann einen Negativpreis zu verleihen.Im August 2010 positionierte sich Ackermann als Unterzeichner des Energiepolitischen Appells, einer Lobbyinitiative der vier grossen Stromkonzerne, um die Laufzeitverlängerung deutscher Kernkraftwerke voranzubringen.\n",
            "Der ehemalige Chefökonom des Internationalen Währungsfonds, Simon Johnson, bezeichnete Ackermann in einem Interview mit der Berliner Tageszeitung als „einen der gefährlichsten Bankmanager der Welt“. Die von Ackermann angepeilte Eigenkapitalrendite von 20 bis 25 Prozent sei nur möglich, „weil er genau weiss, dass die Deutsche Bank ein Systemrisiko darstellt und daher von den Steuerzahlern gerettet würde, falls ein Konkurs droht“. Die Deutsche Bank komme derzeit nur auf eine Eigenkapitalquote von 4 Prozent. Wenn das Finanzsystem sicher sein solle, müsste diese jedoch bei 20 bis 45 Prozent der Bilanzsumme liegen.Am 7. Dezember 2011 entging Ackermann einem Briefbomben-Anschlag, zu dem sich die italienische Anarchisten-Gruppe Federazione Anarchica Informale bekannte.\n",
            "\n",
            "\n",
            "== Sonstiges ==\n",
            "\n",
            "Er ist seit Februar 2014 im Verwaltungsrat der Renova-Gruppe.\n",
            "Er ist Milizoffizier der Schweizer Armee im Grade eines Obersts.\n",
            "Er ist seit 2010 im Organisationskomitee der Bilderberg-Konferenzen und Mitglied der Trilateralen Kommission.\n",
            "Im Stiftungsrat der St. Galler Stiftung für Internationale Studien, die die Organisation des St. Gallen Symposium unterstützt, fungierte Ackermann bis September 2013 als Präsident, seither als Ehrenvorsitzender.\n",
            "Er ist Mitglied im Ehrensenat der Stiftung Lindauer Nobelpreisträgertreffen.\n",
            "Im Advisory Board der Metropolitan Opera in New York ist er Direktor.\n",
            "Ausserdem ist er Vizepräsident des Verwaltungsrates der Belenos Clean Power Holding. Weil diese Firma einen vielversprechenden neuen Batterietyp entwickelt hat, schlägt Ackermann einen Börsengang vor.\n",
            "Ackermann ist seit 2007 Gastprofessor im Fachbereich Finance der London School of Economics and Political Science (LSE) und seit Juli 2008 Honorarprofessor an der Wirtschaftsfakultät der Goethe-Universität Frankfurt am Main; ausserdem ist er Honorary Fellow der London Business School und trägt einen Ehrendoktortitel der Demokrit-Universität Thrakien.\n",
            "Ackermann war Stellvertretender Vorsitzender im Stiftungsvorstand der ESMT European School of Management and Technology.\n",
            "Er war ein Mitglied der einflussreichen, privaten Lobbyorganisation der Finanzwirtschaft der Group of Thirty in Washington, D.C.\n",
            "Der Sänger Marc-Uwe Kling schrieb ein Lied über Josef Ackermann mit dem Titel „Hörst du mich, Josef“.\n",
            "\n",
            "\n",
            "== Auszeichnungen ==\n",
            "2010: Distinguished Business Leadership Award des Atlantic Council\n",
            "2010: European Banker of the Year 2009\n",
            "2009: Lifetime Achievement Award for Outstanding Contribution to Financial Markets der britischen Zeitschrift Euromoney\n",
            "2007: Herbert H. Lehman Human Relations Award des American Jewish Committee\n",
            "2002: SwissAward – Kategorie Wirtschaft\n",
            "2002: McCloy-Preis für deutsch-amerikanische Handelsbeziehungen\n",
            "\n",
            "\n",
            "== Filme ==\n",
            "Hubert Seipel: Die Welt des Josef Ackermann. Wie die Deutsche Bank das Land umkrempelt. ARD, 2010 (44 Minuten)\n",
            "\n",
            "\n",
            "== Literatur ==\n",
            "Leo Müller: Ackermanns Welt. Ein Tatsachenbericht. Rowohlt, Reinbek 2006, ISBN 3-498-04505-9.\n",
            "Erik Nolmans: Josef Ackermann und die Deutsche Bank. Anatomie eines Aufstiegs. Orell Füssli, Zürich 2006, ISBN 3-280-05202-5.\n",
            "Manfred Pohl: Josef Ackermann – Leistung aus Leidenschaft. Eine Würdigung. Buchverlag Neue Zürcher Zeitung / Frankfurter Allgemeine Buch, Zürich / Frankfurt 2012, ISBN 978-3-03823-797-6 (NZZ), ISBN 978-3-89981-283-1 (FAZ). (Leseprobe, PDF-Datei (Memento vom 9. April 2014 im Internet Archive))\n",
            "Stefan Baron: Späte Reue: Josef Ackermann – eine Nahaufnahme. Econ, Berlin 2013, ISBN 978-3-430-20154-4.\n",
            "Josef Ackermann im Munzinger-Archiv (Artikelanfang frei abrufbar)\n",
            "\n",
            "\n",
            "== Weblinks ==\n",
            "\n",
            "Josef Ackermann auf der Website der Zurich Insurance Group. (Memento vom 3. Juli 2013 im Internet Archive) Archiv-Version vom 3. Juli 2013.\n",
            "Josef Ackermann auf der Website der Deutschen Bank. (Memento vom 31. Mai 2012 auf WebCite) Archiv-Version vom 30. Mai 2012.\n",
            "Literatur von und über Josef Ackermann im Katalog der Deutschen Nationalbibliothek\n",
            "Josef Ackermann in der Internet Movie Database (englisch)\n",
            "Josef Ackermann: Das Gesicht des Kapitals. Interview anlässlich Ackermanns Rücktritt bei der Deutschen Bank und seine Bilanz. Video in: Schweizer Fernsehen, Sendung ECO, 4. Juni 2012 (10 Minuten, teilweise Schweizerdeutsch)\n",
            "Uwe Jean Heuser: Ackermanns Wahrheit. In: Die Zeit Nr. 22 vom 24. Mai 2012\n",
            "Interview Focus, 4. Juni 2012\n",
            "Dossier bei Spiegel Online\n",
            "\n",
            "\n",
            "== Einzelnachweise ==\n"
          ],
          "name": "stdout"
        }
      ]
    },
    {
      "cell_type": "code",
      "metadata": {
        "colab": {
          "base_uri": "https://localhost:8080/"
        },
        "id": "yl8mszfZ_MMs",
        "outputId": "dd4a38e5-283d-4215-d54d-54785da21d1b"
      },
      "source": [
        "try:\n",
        "  print(wikipedia.page(\"Rhein\",auto_suggest = False))\n",
        "except wikipedia.exceptions.DisambiguationError as e:\n",
        "  print(e.options)"
      ],
      "execution_count": null,
      "outputs": [
        {
          "output_type": "stream",
          "text": [
            "<WikipediaPage 'Rhein'>\n"
          ],
          "name": "stdout"
        }
      ]
    }
  ]
}